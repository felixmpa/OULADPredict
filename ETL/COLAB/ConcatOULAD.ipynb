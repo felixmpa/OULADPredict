{
  "nbformat": 4,
  "nbformat_minor": 0,
  "metadata": {
    "colab": {
      "provenance": []
    },
    "kernelspec": {
      "name": "python3",
      "display_name": "Python 3"
    },
    "language_info": {
      "name": "python"
    }
  },
  "cells": [
    {
      "cell_type": "code",
      "source": [
        "import pandas as pd\n",
        "\n",
        "# === Cargar CSVs (OULAD original) ===\n",
        "df_assessment = pd.read_csv('assessments.csv')\n",
        "df_assessment['id_assessment_general'] = df_assessment['id_assessment'].astype(str)\n",
        "\n",
        "df_student_vle = pd.read_csv('studentVle.csv', on_bad_lines='skip')\n",
        "df_student_vle['student_id_general'] = df_student_vle['id_student'].astype(str)\n",
        "df_student_vle['id_site_general'] = df_student_vle['id_site'].astype(str)\n",
        "\n",
        "df_courses = pd.read_csv('courses.csv')\n",
        "\n",
        "df_student_info = pd.read_csv('studentInfo.csv')\n",
        "df_student_info['student_id_general'] = df_student_info['id_student'].astype(str)\n",
        "\n",
        "df_vle = pd.read_csv('vle.csv')\n",
        "df_vle['id_site_general'] = df_vle['id_site'].astype(str)\n",
        "\n",
        "df_registration = pd.read_csv('studentRegistration.csv')\n",
        "df_registration['student_id_general'] = df_registration['id_student'].astype(str)\n",
        "\n",
        "df_student_assessment = pd.read_csv('studentAssessment.csv')\n",
        "df_student_assessment['student_id_general'] = df_student_assessment['id_student'].astype(str)\n",
        "df_student_assessment['id_assessment_general'] = df_student_assessment['id_assessment'].astype(str)\n"
      ],
      "metadata": {
        "id": "7fp4PCI-NjsI"
      },
      "execution_count": null,
      "outputs": []
    },
    {
      "cell_type": "code",
      "source": [
        "df_student_assessment = pd.read_csv('studentAssessment.csv')\n",
        "df_student_assessment['student_id_general'] = df_student_assessment['id_student'].astype(str)\n",
        "df_student_assessment['id_assessment_general'] = df_student_assessment['id_assessment'].astype(str)\n"
      ],
      "metadata": {
        "id": "zxBe5ls7N8qM"
      },
      "execution_count": null,
      "outputs": []
    },
    {
      "cell_type": "code",
      "source": [
        "import pandas as pd\n",
        "df_student_vle = pd.read_csv('studentVle.csv', on_bad_lines='skip')\n",
        "df_student_vle['student_id_general'] = df_student_vle['id_student'].astype(str)\n",
        "df_student_vle['id_site_general'] = df_student_vle['id_site'].astype(str)"
      ],
      "metadata": {
        "id": "EgbW8ujuEGoj"
      },
      "execution_count": null,
      "outputs": []
    },
    {
      "cell_type": "code",
      "source": [
        "excel_path = 'NuevosDatos2024.xlsx'\n",
        "df_vle_clickstream = pd.read_excel(excel_path, sheet_name='VLE_clickStream')\n",
        "df_vle_clickstream['id_site_general'] = df_vle_clickstream['guid_site_id'].astype(str)\n",
        "df_vle_clickstream['student_id_general'] = df_vle_clickstream['guid_student_id'].astype(str)"
      ],
      "metadata": {
        "id": "0VpFpeB6Ekzh"
      },
      "execution_count": null,
      "outputs": []
    },
    {
      "cell_type": "code",
      "source": [
        "# === Cargar el archivo Excel (experimento) ===\n",
        "excel_path = 'NuevosDatos2024.xlsx'\n",
        "df_assess_plan = pd.read_excel(excel_path, sheet_name='Assess Plan')\n",
        "df_assess_plan['id_assessment_general'] = df_assess_plan['guid_assess_id'].astype(str)\n",
        "\n",
        "df_vle_clickstream = pd.read_excel(excel_path, sheet_name='VLE_clickStream')\n",
        "df_vle_clickstream['id_site_general'] = df_vle_clickstream['guid_site_id'].astype(str)\n",
        "df_vle_clickstream['student_id_general'] = df_vle_clickstream['guid_student_id'].astype(str)\n",
        "\n",
        "df_cursos = pd.read_excel(excel_path, sheet_name='cursos')\n",
        "\n",
        "df_student_info_new = pd.read_excel(excel_path, sheet_name='StudentInfo')\n",
        "df_student_info_new['student_id_general'] = df_student_info_new['guid_student_id'].astype(str)\n",
        "\n",
        "df_vle_modules = pd.read_excel(excel_path, sheet_name='Vle_modules')\n",
        "df_vle_modules['id_site_general'] = df_vle_modules['guid_site_id'].astype(str)\n",
        "\n",
        "df_registration_new = pd.read_excel(excel_path, sheet_name='Registration')\n",
        "df_registration_new['student_id_general'] = df_registration_new['guid_studente_id'].astype(str)\n",
        "\n",
        "df_assess_detail = pd.read_excel(excel_path, sheet_name='Assesss_detail')\n",
        "df_assess_detail['student_id_general'] = df_assess_detail['guid_student_id'].astype(str)\n",
        "df_assess_detail['id_assessment_general'] = df_assess_detail['guid_assess_id'].astype(str)"
      ],
      "metadata": {
        "id": "xs5JNYc0N2Nq"
      },
      "execution_count": null,
      "outputs": []
    },
    {
      "cell_type": "code",
      "source": [
        "df_assess_detail = pd.read_excel(excel_path, sheet_name='Assesss_detail')\n",
        "df_assess_detail['student_id_general'] = df_assess_detail['guid_student_id'].astype(str)\n",
        "df_assess_detail['id_assessment_general'] = df_assess_detail['guid_assess_id'].astype(str)"
      ],
      "metadata": {
        "id": "3X8DEwKhN_uq"
      },
      "execution_count": null,
      "outputs": []
    },
    {
      "cell_type": "code",
      "source": [
        "# === Función para combinar con columna source ===\n",
        "def combinar_con_source(df1, df2, source1='original', source2='experimento'):\n",
        "    df1 = df1.assign(source=source1)\n",
        "    df2 = df2.assign(source=source2)\n",
        "    combined = pd.concat([df1, df2], ignore_index=True).drop_duplicates().reset_index(drop=True)\n",
        "    return combined"
      ],
      "metadata": {
        "id": "hs5Poy7mOH6t"
      },
      "execution_count": null,
      "outputs": []
    },
    {
      "cell_type": "code",
      "source": [
        "# === Combinar cada par ===\n",
        "df_assessment_combined = combinar_con_source(df_assessment, df_assess_plan)\n",
        "df_student_vle_combined = combinar_con_source(df_student_vle, df_vle_clickstream)\n",
        "df_courses_combined = combinar_con_source(df_courses, df_cursos)\n",
        "df_student_info_combined = combinar_con_source(df_student_info, df_student_info_new)\n",
        "df_vle_combined = combinar_con_source(df_vle, df_vle_modules)\n",
        "df_registration_combined = combinar_con_source(df_registration, df_registration_new)\n",
        "df_student_assessment_combined = combinar_con_source(df_student_assessment, df_assess_detail)"
      ],
      "metadata": {
        "id": "cc7FdS3qONmc"
      },
      "execution_count": null,
      "outputs": []
    },
    {
      "cell_type": "code",
      "source": [
        "df_student_vle_combined = combinar_con_source(df_student_vle, df_vle_clickstream)\n",
        "df_student_vle_combined.to_csv('StudentVle_combinado.csv', index=False)"
      ],
      "metadata": {
        "id": "4mEGq_RoErQN"
      },
      "execution_count": null,
      "outputs": []
    },
    {
      "cell_type": "code",
      "source": [
        "df_student_assessment_combined = combinar_con_source(df_student_assessment, df_assess_detail)"
      ],
      "metadata": {
        "id": "zXhFdpdjOCwV"
      },
      "execution_count": null,
      "outputs": []
    },
    {
      "cell_type": "code",
      "source": [
        "# === Guardar los combinados ===\n",
        "df_assessment_combined.to_csv('Assessment_combinado.csv', index=False)\n",
        "df_student_vle_combined.to_csv('StudentVle_combinado.csv', index=False)\n",
        "df_courses_combined.to_csv('Courses_combinado.csv', index=False)\n",
        "df_student_info_combined.to_csv('StudentInfo_combinado.csv', index=False)\n",
        "df_vle_combined.to_csv('Vle_combinado.csv', index=False)\n",
        "df_registration_combined.to_csv('Registration_combinado.csv', index=False)\n",
        "df_student_assessment_combined.to_csv('StudentAssessment_combinado.csv', index=False)\n"
      ],
      "metadata": {
        "id": "A_X291nTObtL"
      },
      "execution_count": null,
      "outputs": []
    },
    {
      "cell_type": "code",
      "source": [
        "df_student_assessment_combined.to_csv('StudentAssessment_combinado.csv', index=False)"
      ],
      "metadata": {
        "id": "oNz0SeBnOFjs"
      },
      "execution_count": null,
      "outputs": []
    }
  ]
}